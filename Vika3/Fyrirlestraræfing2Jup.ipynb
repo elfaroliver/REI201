{
 "cells": [
  {
   "cell_type": "code",
   "execution_count": 5,
   "metadata": {},
   "outputs": [
    {
     "name": "stdout",
     "output_type": "stream",
     "text": [
      "{'h', 'e', 'r', 'y', 'g', 'a', 't', 'j'}\n",
      "['a', 'b', 'c', 'd']\n"
     ]
    },
    {
     "data": {
      "text/plain": [
       "[1]"
      ]
     },
     "execution_count": 5,
     "metadata": {},
     "output_type": "execute_result"
    }
   ],
   "source": [
    "\n",
    "print(set(\"rgethryjaaaaaeytr\"))\n",
    "print(sorted(set(\"dcba\")))\n",
    "\n",
    "def test(x):\n",
    "\n",
    "    ls = []\n",
    "    for i in sorted(set(x)):\n",
    "        ls.append(x.count(i))\n",
    "\n",
    "    return ls\n",
    "test([1,5,6,1,2,3,5,6,4,8,9,4,1,2])"
   ]
  }
 ],
 "metadata": {
  "kernelspec": {
   "display_name": "venv",
   "language": "python",
   "name": "python3"
  },
  "language_info": {
   "codemirror_mode": {
    "name": "ipython",
    "version": 3
   },
   "file_extension": ".py",
   "mimetype": "text/x-python",
   "name": "python",
   "nbconvert_exporter": "python",
   "pygments_lexer": "ipython3",
   "version": "3.13.1"
  }
 },
 "nbformat": 4,
 "nbformat_minor": 2
}
