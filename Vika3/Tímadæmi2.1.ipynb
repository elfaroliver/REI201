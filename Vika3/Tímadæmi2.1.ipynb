{
 "cells": [
  {
   "cell_type": "code",
   "execution_count": 1,
   "metadata": {},
   "outputs": [],
   "source": [
    "#class Tímadæmi2:\n",
    "def annadStig ():\n",
    "    import math\n",
    "\n",
    "    #a,b,c = float(input(\"Sláðu inn a, b, og c fyrir annars stigs jöfnu: \"))\n",
    "    a = float(input(\"Sláðu inn gildi fyrir a: \"))\n",
    "    b = float(input(\"Sláðu inn gildi fyrir b: \"))\n",
    "    c = float(input(\"Sláðu inn gildi fyrir c: \"))\n",
    "\n",
    "    d = b**2-4*a*c\n",
    "\n",
    "    if d < 0:\n",
    "        print(\"Engin lausn\")\n",
    "    elif d == 0:\n",
    "        x = (-b+math.sqrt(b**2-4*a*c))/(2*a)\n",
    "        print(\"Ein lausn\"), x\n",
    "    else:\n",
    "        x1 = (-b+math.sqrt(b**2-4*a*c))/(2*a)\n",
    "        x2 = (-b-math.sqrt(b**2-4*a*c))/2*a\n",
    "        print(\"Tvær lausnir\"), x1, \" og\", x2"
   ]
  },
  {
   "cell_type": "code",
   "execution_count": 2,
   "metadata": {},
   "outputs": [
    {
     "name": "stdout",
     "output_type": "stream",
     "text": [
      "Engin lausn\n"
     ]
    }
   ],
   "source": [
    "annadStig()"
   ]
  },
  {
   "cell_type": "code",
   "execution_count": 13,
   "metadata": {},
   "outputs": [],
   "source": [
    "\n",
    "\n",
    "def Trapisa ():\n",
    "    \n",
    "    import math\n",
    "\n",
    "    #global f_global\n",
    "    #f_global = f\n",
    "\n",
    "    f = lambda x: x**2\n",
    "\n",
    "    a = float(input(\"Sláðu inn gildi fyrir a: \"))\n",
    "    b = float(input(\"Sláðu inn gildi fyrir b: \"))\n",
    "    n = int(input(\"Sláðu inn gildi fyrir n: \"))\n",
    "\n",
    "    h = (b - a) / n\n",
    "    sum = f(a) + f(b)\n",
    "\n",
    "    for i in range(1, n):\n",
    "        x_i = a + i * h\n",
    "        sum += 2 * f(x_i)\n",
    "\n",
    "    return sum * (h / 2)"
   ]
  },
  {
   "cell_type": "code",
   "execution_count": 14,
   "metadata": {},
   "outputs": [
    {
     "data": {
      "text/plain": [
       "12.337962962962962"
      ]
     },
     "execution_count": 14,
     "metadata": {},
     "output_type": "execute_result"
    }
   ],
   "source": [
    "Trapisa()"
   ]
  }
 ],
 "metadata": {
  "kernelspec": {
   "display_name": "venv",
   "language": "python",
   "name": "python3"
  },
  "language_info": {
   "codemirror_mode": {
    "name": "ipython",
    "version": 3
   },
   "file_extension": ".py",
   "mimetype": "text/x-python",
   "name": "python",
   "nbconvert_exporter": "python",
   "pygments_lexer": "ipython3",
   "version": "3.13.1"
  }
 },
 "nbformat": 4,
 "nbformat_minor": 2
}
