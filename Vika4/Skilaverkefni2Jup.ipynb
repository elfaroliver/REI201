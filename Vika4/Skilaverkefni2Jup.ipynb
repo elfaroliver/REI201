{
 "cells": [
  {
   "cell_type": "code",
   "execution_count": 12,
   "metadata": {},
   "outputs": [],
   "source": [
    "import math\n",
    "\n",
    "def Simpsons(f,a,b,n):\n",
    "    f = lambda x: x**2\n",
    "\n",
    "    a = float(input(\"Sláðu inn gildi fyrir a: \"))\n",
    "    b = float(input(\"Sláðu inn gildi fyrir b: \"))\n",
    "    n = int(input(\"Sláðu inn gildi fyrir n: \"))\n",
    "\n",
    "    if n % 2 == 1:\n",
    "        raise ValueError(\"n verður að vera slétt tala\")\n",
    "\n",
    "    h = (b - a) / n\n",
    "    sum = f(a) + f(b)\n",
    "\n",
    "    for i in range(1, n):\n",
    "        x_i = a + i * h\n",
    "        if i % 2 == 0:\n",
    "            sum += 2 * f(x_i)\n",
    "        else: \n",
    "            sum += 4 * f(x_i)\n",
    "\n",
    "    return sum * (h / 2)"
   ]
  },
  {
   "cell_type": "code",
   "execution_count": 13,
   "metadata": {},
   "outputs": [
    {
     "data": {
      "text/plain": [
       "28.0"
      ]
     },
     "execution_count": 13,
     "metadata": {},
     "output_type": "execute_result"
    }
   ],
   "source": [
    "Simpsons(2,4,6,8)"
   ]
  }
 ],
 "metadata": {
  "kernelspec": {
   "display_name": "venv",
   "language": "python",
   "name": "python3"
  },
  "language_info": {
   "codemirror_mode": {
    "name": "ipython",
    "version": 3
   },
   "file_extension": ".py",
   "mimetype": "text/x-python",
   "name": "python",
   "nbconvert_exporter": "python",
   "pygments_lexer": "ipython3",
   "version": "3.13.1"
  }
 },
 "nbformat": 4,
 "nbformat_minor": 2
}
