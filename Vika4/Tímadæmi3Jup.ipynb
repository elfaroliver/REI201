{
 "cells": [
  {
   "cell_type": "code",
   "execution_count": 1,
   "metadata": {},
   "outputs": [
    {
     "name": "stdout",
     "output_type": "stream",
     "text": [
      "Meðaltal lykla: 2.0\n",
      "Meðaltal gilda: 2.3333333333333335\n",
      "Staðalfrávik lykla: 1.0\n",
      "Staðalfrávik gilda: 1.1547005383792515\n",
      "(1.0, 1.1547005383792515)\n"
     ]
    }
   ],
   "source": [
    "import math\n",
    "\n",
    "def tolfraedi(d):\n",
    "\n",
    "    lyklar = list(d.keys())\n",
    "    gildi = list(d.values())\n",
    "    \n",
    "    # Meðaltöl beggja gilda\n",
    "    mean_k = sum(lyklar) / len(lyklar)\n",
    "    mean_v = sum(gildi) / len(gildi)\n",
    "\n",
    "    print(f\"Meðaltal lykla: {mean_k}\")\n",
    "    print(f\"Meðaltal gilda: {mean_v}\")\n",
    "    \n",
    "    # Staðalfrávik lykla\n",
    "    s_k = math.sqrt(sum((k - mean_k) ** 2 for k in lyklar) / (len(lyklar) - 1))\n",
    "    # Staðalfrávik gilda\n",
    "    s_v = math.sqrt(sum((v - mean_v) ** 2 for v in gildi) / (len(gildi) - 1))\n",
    "\n",
    "    '''sum_k = 0\n",
    "    for x in lyklar:\n",
    "        sum_k += (x - mean_k) ** 2\n",
    "    s_k = math.sqrt(sum_k / len(lyklar))\n",
    "\n",
    "    sum_v = 0\n",
    "    for x in gildi:\n",
    "        sum_v += (x - mean_v) ** 2\n",
    "    s_v = math.sqrt(sum_v / len(gildi))'''\n",
    "\n",
    "    print(f\"Staðalfrávik lykla: {s_k}\")\n",
    "    print(f\"Staðalfrávik gilda: {s_v}\")\n",
    "    \n",
    "    return s_k, s_v\n",
    "\n",
    "#print(s_k, s_v)\n",
    "\n",
    "# Dæmitest kennara\n",
    "d = {1:3, 2:3, 3:1}\n",
    "print(tolfraedi(d))"
   ]
  }
 ],
 "metadata": {
  "kernelspec": {
   "display_name": "venv",
   "language": "python",
   "name": "python3"
  },
  "language_info": {
   "codemirror_mode": {
    "name": "ipython",
    "version": 3
   },
   "file_extension": ".py",
   "mimetype": "text/x-python",
   "name": "python",
   "nbconvert_exporter": "python",
   "pygments_lexer": "ipython3",
   "version": "3.13.1"
  }
 },
 "nbformat": 4,
 "nbformat_minor": 2
}
