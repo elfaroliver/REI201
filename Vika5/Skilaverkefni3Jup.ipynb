{
 "cells": [
  {
   "cell_type": "code",
   "execution_count": null,
   "metadata": {},
   "outputs": [],
   "source": [
    "def arr_to_dict(self, arr):\n",
    "        '''Skrifið fall arr_to_dict(arr) þar sem tekur inn fylki og skilar uppflettitöflu. \n",
    "        Lyklarnir í töflunni eru staðsetningar í fylkinu og eru tjáðir með tvenndinni (röð, dálkur). \n",
    "        Gildin í töflunni eru gildin í fylkinu með tilsvarandi staðsetningu. Ef d = arr_to_dict(arr) þá gildir að d[(i, j)] == arr[i][j].\n",
    "\n",
    "        Inntak: arr er ferningsfylki sem tjáð er sem listi af listum (sjá að ofan).\n",
    "        Skilar: Uppflettitöflu d sem geymir sérhvert stak arr[i][j] með lykli (i, j).\n",
    "        '''\n",
    "\n",
    "\n",
    "        return {(i, j): arr[i][j] \n",
    "                for i in range(len(arr)) for j in range(len(arr[i]))}"
   ]
  }
 ],
 "metadata": {
  "kernelspec": {
   "display_name": "venv",
   "language": "python",
   "name": "python3"
  },
  "language_info": {
   "codemirror_mode": {
    "name": "ipython",
    "version": 3
   },
   "file_extension": ".py",
   "mimetype": "text/x-python",
   "name": "python",
   "nbconvert_exporter": "python",
   "pygments_lexer": "ipython3",
   "version": "3.13.2"
  }
 },
 "nbformat": 4,
 "nbformat_minor": 2
}
